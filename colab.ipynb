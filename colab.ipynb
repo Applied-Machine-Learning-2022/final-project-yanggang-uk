{
  "nbformat": 4,
  "nbformat_minor": 0,
  "metadata": {
    "colab": {
      "name": "Finale",
      "provenance": [],
      "collapsed_sections": []
    },
    "kernelspec": {
      "name": "python3",
      "display_name": "Python 3"
    },
    "language_info": {
      "name": "python"
    }
  },
  "cells": [
    {
      "cell_type": "markdown",
      "source": [
        "Our goal is to solve Partial Differential equations of diffusion for spheres. For now we will focus on creating a training data set. We first need an initial boundary condition. "
      ],
      "metadata": {
        "id": "e28e4z3ucgHN"
      }
    },
    {
      "cell_type": "code",
      "execution_count": null,
      "metadata": {
        "id": "uqRFeP5EcUNC"
      },
      "outputs": [],
      "source": [
        ""
      ]
    }
  ]
}